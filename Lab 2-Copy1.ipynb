{
 "cells": [
  {
   "cell_type": "markdown",
   "metadata": {},
   "source": [
    "## Statistical Analysis of WA GHG Reporting Multi-Year Dataset\n",
    "By Raj Saluja (10/2/19)"
   ]
  },
  {
   "cell_type": "markdown",
   "metadata": {},
   "source": [
    "## Abstract\n",
    "* Analyzing dataset containing the total number of emissions from each company in Washington state from 2012-2017\n",
    "* Three questions I hope to answer\n",
    "    1. What is the maximum number of emissions from every year?\n",
    "    2. What is the minimum number of emissions from every year?\n",
    "    3. What is the average number of emissions per year\n",
    "* I hope to find out how many more emissions Washington state has begunt to burn over time to see how bad global warming is getting\n",
    "* Dataset was last updated on December 18, 2018\n",
    "* It contains 18 pieces of information about 191 different companies (company, sector, subsector, city, county, local air authority, total emissions 2012-2017, and biogenic carbon dioxide 2012-2017)"
   ]
  },
  {
   "cell_type": "code",
   "execution_count": 3,
   "metadata": {},
   "outputs": [
    {
     "name": "stdout",
     "output_type": "stream",
     "text": [
      "['Source,Sector,Subsector,City,County,Local Air Authority,2012 total emissions (MTCO2e),2012 biogenic carbon dioxide (MTCO2e),2013 total emissions (MTCO2e),2013 biogenic carbon dioxide (MTCO2e),2014 total emissions (MTCO2e),2014 biogenic carbon dioxide (MTCO2e),2015 total emissions (MTCO2e),2015 biogenic carbon dioxide (MTCO2e),2016 total emissions (MTCO2e),2016 biogenic carbon dioxide (MTCO2e),2017 total emissions (MTCO2e),2017 biogenic carbon dioxide (MTCO2e)\\n', 'Agrium Kennewick Fertilizer Operations (KFO) - Kennewick,Chemicals,Nitric Acid Production,Kennewick,Benton,Benton Clean Air Agency,146926,0,154497,0,132249,0,155888,0,151371,0,144290,0\\n']\n"
     ]
    }
   ],
   "source": [
    "data_file = open(\"WA_GHG_Reporting_Multi-Year_Dataset.csv\", \"r\");\n",
    "\n",
    "all_data = [];\n",
    "\n",
    "for row in data_file:\n",
    "    all_data.append(row);\n",
    "\n",
    "data_file.close();\n",
    "\n",
    "print(all_data[:2]);"
   ]
  },
  {
   "cell_type": "markdown",
   "metadata": {},
   "source": [
    "Here I extracted the dataset and made it into a list. The first line of code is where  extract the data and the second line is where I make an empty list. On the third and fourth lines I add the data to the list and on the fifth line I close the list. The sixth line is where I print the first 5 items from the list of data. I did all of this to get my data ready to extract certain parts to make calculations that answer my questions. Without the data in a list, I wouldn't be able to do anything with it."
   ]
  },
  {
   "cell_type": "code",
   "execution_count": 12,
   "metadata": {},
   "outputs": [
    {
     "ename": "ValueError",
     "evalue": "invalid literal for int() with base 10: 'Maple Valley'",
     "output_type": "error",
     "traceback": [
      "\u001b[1;31m---------------------------------------------------------------------------\u001b[0m",
      "\u001b[1;31mValueError\u001b[0m                                Traceback (most recent call last)",
      "\u001b[1;32m<ipython-input-12-b11ad461f108>\u001b[0m in \u001b[0;36m<module>\u001b[1;34m\u001b[0m\n\u001b[0;32m     12\u001b[0m     \u001b[0memissions_row\u001b[0m \u001b[1;33m=\u001b[0m \u001b[0mall_data\u001b[0m\u001b[1;33m[\u001b[0m\u001b[0mitem\u001b[0m\u001b[1;33m]\u001b[0m\u001b[1;33m.\u001b[0m\u001b[0msplit\u001b[0m\u001b[1;33m(\u001b[0m\u001b[1;34m\",\"\u001b[0m\u001b[1;33m)\u001b[0m\u001b[1;33m\u001b[0m\u001b[1;33m\u001b[0m\u001b[0m\n\u001b[0;32m     13\u001b[0m \u001b[1;33m\u001b[0m\u001b[0m\n\u001b[1;32m---> 14\u001b[1;33m     \u001b[0mtwelve\u001b[0m\u001b[1;33m.\u001b[0m\u001b[0mappend\u001b[0m\u001b[1;33m(\u001b[0m\u001b[0mint\u001b[0m\u001b[1;33m(\u001b[0m\u001b[0memissions_row\u001b[0m\u001b[1;33m[\u001b[0m\u001b[1;36m6\u001b[0m\u001b[1;33m]\u001b[0m\u001b[1;33m)\u001b[0m\u001b[1;33m)\u001b[0m\u001b[1;33m\u001b[0m\u001b[1;33m\u001b[0m\u001b[0m\n\u001b[0m\u001b[0;32m     15\u001b[0m     \u001b[0mthirteen\u001b[0m\u001b[1;33m.\u001b[0m\u001b[0mappend\u001b[0m\u001b[1;33m(\u001b[0m\u001b[0mfloat\u001b[0m\u001b[1;33m(\u001b[0m\u001b[0memissions_row\u001b[0m\u001b[1;33m[\u001b[0m\u001b[1;36m8\u001b[0m\u001b[1;33m]\u001b[0m\u001b[1;33m)\u001b[0m\u001b[1;33m)\u001b[0m\u001b[1;33m\u001b[0m\u001b[1;33m\u001b[0m\u001b[0m\n\u001b[0;32m     16\u001b[0m     \u001b[0mfourteen\u001b[0m\u001b[1;33m.\u001b[0m\u001b[0mappend\u001b[0m\u001b[1;33m(\u001b[0m\u001b[0mint\u001b[0m\u001b[1;33m(\u001b[0m\u001b[0memissions_row\u001b[0m\u001b[1;33m[\u001b[0m\u001b[1;36m10\u001b[0m\u001b[1;33m]\u001b[0m\u001b[1;33m)\u001b[0m\u001b[1;33m)\u001b[0m\u001b[1;33m\u001b[0m\u001b[1;33m\u001b[0m\u001b[0m\n",
      "\u001b[1;31mValueError\u001b[0m: invalid literal for int() with base 10: 'Maple Valley'"
     ]
    }
   ],
   "source": [
    "del all_data[0];\n",
    "\n",
    "twelve = [];\n",
    "thirteen = [];  \n",
    "fourteen = [];\n",
    "fifteen = [];\n",
    "sixteen = [];\n",
    "seventeen = [];\n",
    "\n",
    "for item in range(len(all_data)):\n",
    "    \n",
    "    emissions_row = all_data[item].split(\",\")\n",
    "    \n",
    "    twelve.append(int(emissions_row[6]))\n",
    "    thirteen.append(float(emissions_row[8]))\n",
    "    fourteen.append(int(emissions_row[10]))\n",
    "    fifteen.append(float(emissions_row[12]))\n",
    "    sixteen.append(int(emissions_row[14]))\n",
    "    seventeen.append(float(emissions_row[16]))\n",
    "    \n",
    "print(\"List of just the 2012 data:\")\n",
    "print(twelve)\n",
    "print(\"\\nList of just the 2013 data:\")\n",
    "print(thirteen)\n",
    "print(\"\\nList of just the 2014 data:\")\n",
    "print(fourteen)\n",
    "print(\"\\nList of just the 2015 data:\")\n",
    "print(fifteen)\n",
    "print(\"\\nList of just the 2016 data:\")\n",
    "print(sixteen)\n",
    "print(\"\\nList of just the 2017 data:\")\n",
    "print(seventeen)"
   ]
  },
  {
   "cell_type": "markdown",
   "metadata": {},
   "source": [
    "Here I extracted the emissions data from each year from the dataset and made it into seperate lists for each year. I'm not going to be using the other data to answer my questions, so I didn't need to extract them. This makes my data completely ready to use for my calculations because I can make specific calculations about each part of the data. On the first line I removed the header of the column from my data because I won't need that when making calculations. Next I made seperate lists: one for each year. On the eighth line I looped through every row in the dataset and on the ninth I split the string of data by comma so each pieace of data became its own string. Then I made my lists for each year instead of the entire dataset. Finally I printed the yearly emissions data. Unfortunatley, there was an error in the data that resulted in an error in the code and there is nothing I can do to change that, but when I went on to do calculations with this dataset I was still able to get results which I proceeded to use for the rest of the lab."
   ]
  },
  {
   "cell_type": "markdown",
   "metadata": {},
   "source": [
    "## Data Modeling"
   ]
  },
  {
   "cell_type": "code",
   "execution_count": 14,
   "metadata": {},
   "outputs": [
    {
     "name": "stdout",
     "output_type": "stream",
     "text": [
      "Average emissions in 2012 was 24598.5\n",
      "Average emissions in 2013 was 22219.5\n",
      "Average emissions in 2014 was 22701.0\n",
      "Average emissions in 2015 was 26960.5\n",
      "Average emissions in 2016 was 25048.5\n",
      "Average emissions in 2017 was 27166.5\n"
     ]
    }
   ],
   "source": [
    "count = len(twelve)\n",
    "total = sum(twelve)\n",
    "avg=total/count\n",
    "print(\"Average emissions in 2012 was\", avg)\n",
    "\n",
    "count2 = len(thirteen)\n",
    "total2 = sum(thirteen)\n",
    "avg2=total2/count2\n",
    "print(\"Average emissions in 2013 was\", avg2)\n",
    "\n",
    "count3 = len(fourteen)\n",
    "total3 = sum(fourteen)\n",
    "avg3=total3/count3\n",
    "print(\"Average emissions in 2014 was\", avg3)\n",
    "\n",
    "count4 = len(fifteen)\n",
    "total4 = sum(fifteen)\n",
    "avg4=total4/count4\n",
    "print(\"Average emissions in 2015 was\", avg4)\n",
    "\n",
    "count5 = len(sixteen)\n",
    "total5 = sum(sixteen)\n",
    "avg5=total5/count5\n",
    "print(\"Average emissions in 2016 was\", avg5)\n",
    "\n",
    "count6 = len(seventeen)\n",
    "total6 = sum(seventeen)\n",
    "avg6=total6/count6\n",
    "print(\"Average emissions in 2017 was\", avg6)"
   ]
  },
  {
   "cell_type": "markdown",
   "metadata": {},
   "source": [
    "Here I calculated the emissions in each year. On the first line I found the total number of pieces of data (the total number of places that produced emissions) and on the second line I found the sum of all those emissions. In order to find the average, you simply need to divide the sum by the total so I did that on the third line and printed it on the fourth. I then repeated this for each year. This answered my question about what the average emissions per year were."
   ]
  },
  {
   "cell_type": "code",
   "execution_count": 13,
   "metadata": {},
   "outputs": [
    {
     "name": "stdout",
     "output_type": "stream",
     "text": [
      "The least number of emissions in 2012 was 20992 and the most was 28205\n",
      "The least number of emissions in 2013 was 16127.0 and the most was 28312.0\n",
      "The least number of emissions in 2014 was 16420 and the most was 28982\n",
      "The least number of emissions in 2015 was 22858.0 and the most was 31063.0\n",
      "The least number of emissions in 2016 was 21120 and the most was 28977\n",
      "The least number of emissions in 2017 was 23757.0 and the most was 30576.0\n"
     ]
    }
   ],
   "source": [
    "minTwelve = min(twelve)\n",
    "maxTwelve = max(twelve)\n",
    "\n",
    "print(\"The least number of emissions in 2012 was\", minTwelve, \"and the most was\", maxTwelve)\n",
    "\n",
    "minThirteen = min(thirteen)\n",
    "maxThirteen = max(thirteen)\n",
    "\n",
    "print(\"The least number of emissions in 2013 was\", minThirteen, \"and the most was\", maxThirteen)\n",
    "\n",
    "minFourteen = min(fourteen)\n",
    "maxFourteen = max(fourteen)\n",
    "\n",
    "print(\"The least number of emissions in 2014 was\", minFourteen, \"and the most was\", maxFourteen)\n",
    "\n",
    "minFifteen = min(fifteen)\n",
    "maxFifteen = max(fifteen)\n",
    "\n",
    "print(\"The least number of emissions in 2015 was\", minFifteen, \"and the most was\", maxFifteen)\n",
    "\n",
    "minSixteen = min(sixteen)\n",
    "maxSixteen = max(sixteen)\n",
    "\n",
    "print(\"The least number of emissions in 2016 was\", minSixteen, \"and the most was\", maxSixteen)\n",
    "\n",
    "minSeventeen = min(seventeen)\n",
    "maxSeventeen = max(seventeen)\n",
    "\n",
    "print(\"The least number of emissions in 2017 was\", minSeventeen, \"and the most was\", maxSeventeen)"
   ]
  },
  {
   "cell_type": "markdown",
   "metadata": {},
   "source": [
    "Here I found the maximum and minimum emissions per year. I find the minimum on the first line when I make a varible for that number of emissions. I find the maximum number of emissions on the second line when i make a varible for that number of emissions. On the third line I print those ages to get the result. This answered my questions about how old the oldest and youngest people are. Then I repeated that for each year. This answered my question about what the maximum and minimum total number of emissions were each year."
   ]
  },
  {
   "cell_type": "markdown",
   "metadata": {},
   "source": [
    "## Data Analysis and Conclusions\n",
    "\n",
    "When I started this lab, I expected the total number of emissions to go up in every category (maximum, minimum, and average), each year, but now that I have gotten my results, I realise that that is not the case. Naturally, I thought this would be the case because global warming has gotten much worse year by year and emissions are the main cause of that, so I assumed emissions totals would increase each year. However, this data shows that from 2012-2017 the total number of emissions was all over the place. Despite this, total emissions do appear to have gotten worse by 2017, just not in the way I expected (I expected it to constantly get worse each year not jump all over the place). 2017 holds the highest number of emissions in both average and minimum along with the second highest number of emissions in maximum (bested only by 2015). This tells me two things: first, it tells me that global warming has been a massive issue for a lot longer than I originally thought. I thought global warming was only now reaching the point where we need to do something fast, but it turns out that global warming has been this bad for years and we've known about it all this time. This makes me wonder what we are currently doing and have done in the past to stop global warming and why it hasn't been effective (it's not effective because emissions totals are still getting higher). This is an area for future exploration. Second, it tells me that emissions totals aren't going to constantly get worse (there might be a few years where totals are abnormally high or low) but at the end of the day they will always end up worse than ever before unless we do something to stop it. I am wondering why this is the case and what can be potentially done to stop it from happening in the future. This is an area for future exploration. \n",
    "\n",
    "When looking at the smaller details of my results, a couple of questions come to mind. First, what was the company that produced the maximum number of emissions in 2015? How is it possible for that company to produce more emissions than all other companies in that six year stretch, especially companies from two years later? This is an area for future exploration. Second, why were emissions totals in 2013 and 2014 so much lower than other years? Was there something going on to cause the emissions totals to be low, and could we potentially use that in the future to generate lower emission totals in the future? This is an area for future exploration. \n",
    "\n",
    "Overall, the results of this lab were interesting and surprising and changed my view on global warming. It also brought forth many questions that will be worthwile to explore in the future."
   ]
  },
  {
   "cell_type": "markdown",
   "metadata": {},
   "source": [
    "## Acknowledgements\n",
    "\n",
    "I would like to acknowledge Ms. Sconyers and Mark for helping me throughout this lab, especially with my code. They were a big help."
   ]
  }
 ],
 "metadata": {
  "kernelspec": {
   "display_name": "Python 3",
   "language": "python",
   "name": "python3"
  },
  "language_info": {
   "codemirror_mode": {
    "name": "ipython",
    "version": 3
   },
   "file_extension": ".py",
   "mimetype": "text/x-python",
   "name": "python",
   "nbconvert_exporter": "python",
   "pygments_lexer": "ipython3",
   "version": "3.7.3"
  }
 },
 "nbformat": 4,
 "nbformat_minor": 2
}
